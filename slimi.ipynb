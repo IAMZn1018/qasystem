{
 "cells": [
  {
   "cell_type": "code",
   "execution_count": 1,
   "metadata": {},
   "outputs": [],
   "source": [
    "import jieba\n",
    "import math"
   ]
  },
  {
   "cell_type": "code",
   "execution_count": 4,
   "metadata": {},
   "outputs": [
    {
     "name": "stdout",
     "output_type": "stream",
     "text": [
      "['这', '只', '皮靴', '号码', '大', '了', '那', '只', '号码', '合适']\n",
      "['这', '只', '皮靴', '号码', '不小', '那', '只', '更合', '合适']\n",
      "{'这', '合适', '只', '大', '了', '那', '号码', '皮靴', '更合', '不小'}\n",
      "{'这': 0, '合适': 1, '只': 2, '大': 3, '了': 4, '那': 5, '号码': 6, '皮靴': 7, '更合': 8, '不小': 9}\n",
      "[0, 2, 7, 6, 3, 4, 5, 2, 6, 1]\n",
      "[1, 1, 2, 1, 1, 1, 2, 1, 0, 0]\n",
      "[0, 2, 7, 6, 9, 5, 2, 8, 1]\n",
      "[1, 1, 2, 0, 0, 1, 1, 1, 1, 1]\n",
      "0.81\n"
     ]
    }
   ],
   "source": [
    "s1 = '这只皮靴号码大了。那只号码合适'\n",
    "s1_cut = [i for i in jieba.cut(s1, cut_all=True) if i != '']\n",
    "s2 = '这只皮靴号码不小，那只更合适'\n",
    "s2_cut = [i for i in jieba.cut(s2, cut_all=True) if i != '']\n",
    "print(s1_cut)\n",
    "print(s2_cut)\n",
    "word_set = set(s1_cut).union(set(s2_cut))\n",
    "print(word_set)\n",
    "\n",
    "word_dict = dict()\n",
    "i = 0\n",
    "for word in word_set:\n",
    "    word_dict[word] = i\n",
    "    i += 1\n",
    "print(word_dict)\n",
    "\n",
    "s1_cut_code = [word_dict[word] for word in s1_cut]\n",
    "print(s1_cut_code)\n",
    "s1_cut_code = [0]*len(word_dict)\n",
    "\n",
    "for word in s1_cut:\n",
    "    s1_cut_code[word_dict[word]]+=1\n",
    "print(s1_cut_code)\n",
    "\n",
    "s2_cut_code = [word_dict[word] for word in s2_cut]\n",
    "print(s2_cut_code)\n",
    "s2_cut_code = [0]*len(word_dict)\n",
    "for word in s2_cut:\n",
    "    s2_cut_code[word_dict[word]]+=1\n",
    "print(s2_cut_code)\n",
    "\n",
    "# 计算余弦相似度\n",
    "sum = 0\n",
    "sq1 = 0\n",
    "sq2 = 0\n",
    "for i in range(len(s1_cut_code)):\n",
    "    sum += s1_cut_code[i] * s2_cut_code[i]\n",
    "    sq1 += pow(s1_cut_code[i], 2)\n",
    "    sq2 += pow(s2_cut_code[i], 2)\n",
    "\n",
    "try:\n",
    "    result = round(float(sum) / (math.sqrt(sq1) * math.sqrt(sq2)), 2)\n",
    "except ZeroDivisionError:\n",
    "    result = 0.0\n",
    "print(result)"
   ]
  },
  {
   "cell_type": "markdown",
   "metadata": {},
   "source": [
    "# 余弦定理"
   ]
  },
  {
   "cell_type": "code",
   "execution_count": 2,
   "metadata": {},
   "outputs": [],
   "source": [
    "def simicos(str1, str2):\n",
    "    # 对两个要计算的字符串进行分词, 使用隐马尔科夫模型(也可不用)\n",
    "    # 由于不同的分词算法, 所以分出来的结果可能不一样\n",
    "    # 也会导致相似度会有所误差, 但是一般影响不大\n",
    "    # 如果想把所有的词性都计算，那么把if及其后面的全部删除掉即可\n",
    "    cut_str1 = [w for w in jieba.cut(str1, HMM=False)]\n",
    "    cut_str2 = [w for w in jieba.cut(str2, HMM=False)]\n",
    "    # 列出所有词\n",
    "    all_words = set(cut_str1 + cut_str2)\n",
    "    # 计算词频\n",
    "    freq_str1 = [cut_str1.count(x) for x in all_words]\n",
    "    freq_str2 = [cut_str2.count(x) for x in all_words]\n",
    "    # 计算相似度\n",
    "    sum_all = sum([x*y for x, y in zip(freq_str1, freq_str2)])\n",
    "    sqrt_str1 = math.sqrt(sum(x ** 2 for x in freq_str1))\n",
    "    sqrt_str2 = math.sqrt(sum(x ** 2 for x in freq_str2))\n",
    "    \n",
    "    print(sqrt_str1, sqrt_str2)\n",
    "    return sum_all / (sqrt_str1 * sqrt_str2)"
   ]
  },
  {
   "cell_type": "code",
   "execution_count": 23,
   "metadata": {},
   "outputs": [
    {
     "name": "stdout",
     "output_type": "stream",
     "text": [
      "2.449489742783178 2.0\n"
     ]
    },
    {
     "data": {
      "text/plain": [
       "0.4082482904638631"
      ]
     },
     "execution_count": 23,
     "metadata": {},
     "output_type": "execute_result"
    }
   ],
   "source": [
    "simicos('快速借款逾期有多严重', '逾期问题严重吗')"
   ]
  },
  {
   "cell_type": "code",
   "execution_count": 14,
   "metadata": {},
   "outputs": [],
   "source": [
    "import jieba.analyse\n",
    "from math import sqrt\n",
    "from __future__ import division\n",
    "\n",
    "class Similarity():\n",
    "    def __init__(self, target1, target2, topK=10):\n",
    "        self.target1 = target1\n",
    "        self.target2 = target2\n",
    "        self.topK = topK\n",
    " \n",
    "    def vector(self):\n",
    "        self.vdict1 = {}\n",
    "        self.vdict2 = {}\n",
    "        top_keywords1 = jieba.analyse.extract_tags(self.target1, topK=self.topK, withWeight=True)\n",
    "        top_keywords2 = jieba.analyse.extract_tags(self.target2, topK=self.topK, withWeight=True)\n",
    "        for k, v in top_keywords1:\n",
    "            self.vdict1[k] = v\n",
    "        for k, v in top_keywords2:\n",
    "            self.vdict2[k] = v\n",
    " \n",
    "    def mix(self):\n",
    "        for key in self.vdict1:\n",
    "            self.vdict2[key] = self.vdict2.get(key, 0)\n",
    "        for key in self.vdict2:\n",
    "            self.vdict1[key] = self.vdict1.get(key, 0)\n",
    " \n",
    "        def mapminmax(vdict):\n",
    "            \"\"\"计算相对词频\"\"\"\n",
    "            _min = min(vdict.values())\n",
    "            _max = max(vdict.values())\n",
    "            _mid = _max - _min\n",
    "            #print _min, _max, _mid\n",
    "            for key in vdict:\n",
    "                vdict[key] = (vdict[key] - _min)/_mid\n",
    "            return vdict\n",
    " \n",
    "        self.vdict1 = mapminmax(self.vdict1)\n",
    "        self.vdict2 = mapminmax(self.vdict2)\n",
    " \n",
    "    def similar(self):\n",
    "        self.vector()\n",
    "        self.mix()\n",
    "        sum = 0\n",
    "        for key in self.vdict1:\n",
    "            sum += self.vdict1[key] * self.vdict2[key]\n",
    "        A = sqrt(reduce(lambda x,y: x+y, map(lambda x: x*x, self.vdict1.values())))\n",
    "        B = sqrt(reduce(lambda x,y: x+y, map(lambda x: x*x, self.vdict2.values())))\n",
    "        return sum/(A*B)"
   ]
  },
  {
   "cell_type": "code",
   "execution_count": 15,
   "metadata": {},
   "outputs": [],
   "source": [
    "s = Similarity('这只皮靴号码大了。那只号码合适', '这只皮靴号码不小，那只更合适啊', 10)"
   ]
  },
  {
   "cell_type": "code",
   "execution_count": 17,
   "metadata": {},
   "outputs": [
    {
     "data": {
      "text/plain": [
       "10"
      ]
     },
     "execution_count": 17,
     "metadata": {},
     "output_type": "execute_result"
    }
   ],
   "source": [
    "s.topK"
   ]
  },
  {
   "cell_type": "markdown",
   "metadata": {},
   "source": [
    "# TF计算"
   ]
  },
  {
   "cell_type": "code",
   "execution_count": 7,
   "metadata": {},
   "outputs": [
    {
     "name": "stdout",
     "output_type": "stream",
     "text": [
      "0.7161148740394329\n"
     ]
    }
   ],
   "source": [
    "from sklearn.feature_extraction.text import CountVectorizer\n",
    "import numpy as np\n",
    "from scipy.linalg import norm\n",
    " \n",
    "def tf_similarity(s1, s2):\n",
    "    def add_space(s):\n",
    "        return ' '.join(jieba.cut(s))\n",
    "    \n",
    "    # 将字中间加入空格\n",
    "    s1, s2 = add_space(s1), add_space(s2)\n",
    "    # 转化为TF矩阵\n",
    "    cv = CountVectorizer(tokenizer=lambda s: s.split())\n",
    "    corpus = [s1, s2]\n",
    "    vectors = cv.fit_transform(corpus).toarray()\n",
    "    # 计算TF系数\n",
    "    return np.dot(vectors[0], vectors[1]) / (norm(vectors[0]) * norm(vectors[1]))\n",
    " \n",
    "\n",
    "s1 = '这只皮靴号码大了。那只号码合适'\n",
    "s2 = '这只皮靴号码不小，那只更合适啊'\n",
    "print(tf_similarity(s1, s2))"
   ]
  },
  {
   "cell_type": "markdown",
   "metadata": {},
   "source": [
    "# TF-IDF计算"
   ]
  },
  {
   "cell_type": "code",
   "execution_count": 15,
   "metadata": {},
   "outputs": [
    {
     "name": "stdout",
     "output_type": "stream",
     "text": [
      "0.6113454416681379\n"
     ]
    }
   ],
   "source": [
    "from sklearn.feature_extraction.text import TfidfVectorizer\n",
    "import numpy as np\n",
    "from scipy.linalg import norm\n",
    " \n",
    "def tfidf_similarity(s1, s2):\n",
    "    def add_space(s):\n",
    "        return ' '.join(jieba.cut(s))\n",
    "    \n",
    "    # 将字中间加入空格\n",
    "    s1, s2 = add_space(s1), add_space(s2)\n",
    "    # 转化为TF矩阵\n",
    "    cv = TfidfVectorizer(tokenizer=lambda s: s.split())\n",
    "    corpus = [s1, s2]\n",
    "    vectors = cv.fit_transform(corpus).toarray()\n",
    "    # 计算TF系数\n",
    "    return np.dot(vectors[0], vectors[1]) / (norm(vectors[0]) * norm(vectors[1]))\n",
    " \n",
    "\n",
    "s1 = '这只皮靴号码大了。那只号码合适'\n",
    "s2 = '这只皮靴号码不小，那只更合适'\n",
    "print(tfidf_similarity(s1, s2))"
   ]
  },
  {
   "cell_type": "code",
   "execution_count": 95,
   "metadata": {},
   "outputs": [],
   "source": [
    "import json\n",
    "import codecs\n",
    "similar_json = json.load(codecs.open('./model/finance.json', 'r', encoding='UTF-8'))"
   ]
  },
  {
   "cell_type": "markdown",
   "metadata": {},
   "source": [
    "# Word2Vec"
   ]
  },
  {
   "cell_type": "code",
   "execution_count": 2,
   "metadata": {},
   "outputs": [],
   "source": [
    "import gensim\n",
    "import jieba\n",
    "import numpy as np\n",
    "from scipy.linalg import norm\n",
    " \n",
    "model_file = r'./model/finance.model'\n",
    "model = gensim.models.Word2Vec.load(model_file)\n",
    "\n",
    "def get_vec(sentence, model):\n",
    "    vec = np.zeros(model.vector_size)\n",
    "    n = 0\n",
    "    for word in jieba.cut(sentence):\n",
    "        try:\n",
    "            vec += model.wv[word]\n",
    "            n += 1\n",
    "        except KeyError:\n",
    "            pass\n",
    "    return vec if n==0 else vec/n \n",
    "\n",
    "def vector_similarity(s1, s2):\n",
    "    v1, v2 = get_vec(s1, model), get_vec(s2, model)\n",
    "    return np.dot(v1, v2) / (norm(v1) * norm(v2))"
   ]
  },
  {
   "cell_type": "code",
   "execution_count": 3,
   "metadata": {},
   "outputs": [],
   "source": [
    "import pandas as pd\n",
    "df = pd.read_csv('credit_card_qa.csv')\n",
    "qa_dict = df.to_dict(orient='records')"
   ]
  },
  {
   "cell_type": "code",
   "execution_count": 90,
   "metadata": {
    "scrolled": true
   },
   "outputs": [
    {
     "name": "stdout",
     "output_type": "stream",
     "text": [
      "用卡爸爸。可以申请账单智能还款 0.818841074409692 信用卡逾期次数多会有什么影响？\n"
     ]
    }
   ],
   "source": [
    "for qa in qa_dict:\n",
    "    score = vector_similarity('逾期会有什么影响', qa['question'])\n",
    "    if score > 0.8:\n",
    "        print(qa['answer'], score, qa['question'])\n",
    "        break"
   ]
  },
  {
   "cell_type": "markdown",
   "metadata": {},
   "source": [
    "# Word2Vec 2"
   ]
  },
  {
   "cell_type": "code",
   "execution_count": 4,
   "metadata": {},
   "outputs": [],
   "source": [
    "def simq(q1, q2):\n",
    "    # q1 待匹配问句\n",
    "    # q2 数据库问句\n",
    "    q1_words = list(set(jieba.lcut(q1)))\n",
    "    q2_words = list(set(jieba.lcut(q2)))\n",
    "    score = 0\n",
    "    for word in q2_words:\n",
    "        try:\n",
    "            if word in q1_words:\n",
    "                score+=1\n",
    "            else:\n",
    "                score+=np.mean([similar_json[word][w] for w in similar_json[word].keys() if w in q1_words and w in similar_json[word]])\n",
    "        except:\n",
    "            continue\n",
    "    return score/len(q2_words)"
   ]
  },
  {
   "cell_type": "code",
   "execution_count": 22,
   "metadata": {
    "scrolled": true
   },
   "outputs": [],
   "source": [
    "scores = []\n",
    "for qa in qa_dict:\n",
    "    score = simq('逾期会有什么影响', qa['question'])\n",
    "    if score > 0.5:\n",
    "        scores.append(score)\n",
    "#         print(qa['answer'], score, qa['question'])"
   ]
  },
  {
   "cell_type": "code",
   "execution_count": 19,
   "metadata": {},
   "outputs": [],
   "source": [
    "scores.append(0.6666666666666666)"
   ]
  },
  {
   "cell_type": "code",
   "execution_count": 25,
   "metadata": {},
   "outputs": [
    {
     "data": {
      "text/plain": [
       "0.5555555555555556"
      ]
     },
     "execution_count": 25,
     "metadata": {},
     "output_type": "execute_result"
    }
   ],
   "source": [
    "min(scores)"
   ]
  },
  {
   "cell_type": "code",
   "execution_count": 101,
   "metadata": {},
   "outputs": [],
   "source": [
    "import jieba.analyse as jieba_analyse"
   ]
  },
  {
   "cell_type": "code",
   "execution_count": 102,
   "metadata": {},
   "outputs": [],
   "source": [
    "def _():\n",
    "    tags = jieba_analyse.extract_tags('逾期会有什么影响', topK=len(sentence), withWeight=True)\n",
    "    words, weights = [], []\n",
    "    for word, weight in tags:\n",
    "        words.append(word)\n",
    "        weights.append(weight)\n",
    "    sum_of_weights = sum(weights)\n",
    "    weights = [w/sum_of_weights for w in weights]\n",
    "    return words, weights"
   ]
  },
  {
   "cell_type": "code",
   "execution_count": 103,
   "metadata": {},
   "outputs": [
    {
     "data": {
      "text/plain": [
       "(['逾期', '影响', '什么'],\n",
       " [0.5578978511722604, 0.23331826955275922, 0.20878387927498032])"
      ]
     },
     "execution_count": 103,
     "metadata": {},
     "output_type": "execute_result"
    }
   ],
   "source": [
    "_()"
   ]
  },
  {
   "cell_type": "code",
   "execution_count": 104,
   "metadata": {},
   "outputs": [],
   "source": [
    "tags = jieba_analyse.extract_tags('逾期会有什么影响', topK=len(sentence), withWeight=True)"
   ]
  },
  {
   "cell_type": "code",
   "execution_count": 105,
   "metadata": {},
   "outputs": [
    {
     "data": {
      "text/plain": [
       "[('逾期', 3.1770765998366666), ('影响', 1.3286841183433333), ('什么', 1.1889674353)]"
      ]
     },
     "execution_count": 105,
     "metadata": {},
     "output_type": "execute_result"
    }
   ],
   "source": [
    "tags"
   ]
  },
  {
   "cell_type": "code",
   "execution_count": null,
   "metadata": {},
   "outputs": [],
   "source": []
  }
 ],
 "metadata": {
  "kernelspec": {
   "display_name": "Python 3",
   "language": "python",
   "name": "python3"
  },
  "language_info": {
   "codemirror_mode": {
    "name": "ipython",
    "version": 3
   },
   "file_extension": ".py",
   "mimetype": "text/x-python",
   "name": "python",
   "nbconvert_exporter": "python",
   "pygments_lexer": "ipython3",
   "version": "3.6.4"
  }
 },
 "nbformat": 4,
 "nbformat_minor": 2
}
