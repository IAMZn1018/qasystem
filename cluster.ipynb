{
 "cells": [
  {
   "cell_type": "code",
   "execution_count": 3,
   "metadata": {},
   "outputs": [],
   "source": [
    "import numpy as np\n",
    "import jieba\n",
    "import json\n",
    "import codecs\n",
    "import pandas as pd\n",
    "from sklearn.cluster import AgglomerativeClustering\n",
    "from gensim import models"
   ]
  },
  {
   "cell_type": "code",
   "execution_count": 4,
   "metadata": {},
   "outputs": [],
   "source": [
    "model = models.Word2Vec.load('./model/finance.model')"
   ]
  },
  {
   "cell_type": "code",
   "execution_count": 2,
   "metadata": {},
   "outputs": [],
   "source": [
    "df = pd.read_csv(r'G:\\BaiduNetdiskDownload/financezhidao_filter.csv').fillna('')\n",
    "df = df[df['is_best'] == 1]"
   ]
  },
  {
   "cell_type": "code",
   "execution_count": 3,
   "metadata": {},
   "outputs": [
    {
     "data": {
      "text/html": [
       "<div>\n",
       "<style scoped>\n",
       "    .dataframe tbody tr th:only-of-type {\n",
       "        vertical-align: middle;\n",
       "    }\n",
       "\n",
       "    .dataframe tbody tr th {\n",
       "        vertical-align: top;\n",
       "    }\n",
       "\n",
       "    .dataframe thead th {\n",
       "        text-align: right;\n",
       "    }\n",
       "</style>\n",
       "<table border=\"1\" class=\"dataframe\">\n",
       "  <thead>\n",
       "    <tr style=\"text-align: right;\">\n",
       "      <th></th>\n",
       "      <th>title</th>\n",
       "      <th>question</th>\n",
       "      <th>reply</th>\n",
       "      <th>is_best</th>\n",
       "    </tr>\n",
       "  </thead>\n",
       "  <tbody>\n",
       "    <tr>\n",
       "      <th>92</th>\n",
       "      <td>天*湖*小*的房子首付多少，能用公积金贷款</td>\n",
       "      <td></td>\n",
       "      <td>由于各城市相关政策有所不同，具体您所在当地是否有开展公积金贷款业务，以及相关业务规定，您可以...</td>\n",
       "      <td>1</td>\n",
       "    </tr>\n",
       "    <tr>\n",
       "      <th>94</th>\n",
       "      <td>30万大额存单利率多少呢，我目前有30多万，想存</td>\n",
       "      <td></td>\n",
       "      <td></td>\n",
       "      <td>1</td>\n",
       "    </tr>\n",
       "    <tr>\n",
       "      <th>106</th>\n",
       "      <td>43###00日元多少人民币</td>\n",
       "      <td></td>\n",
       "      <td>由于外汇汇率是实时变动的，您可以登录我行主页，点击右侧“实时金融信息”下“外汇实时汇率”查看...</td>\n",
       "      <td>1</td>\n",
       "    </tr>\n",
       "    <tr>\n",
       "      <th>108</th>\n",
       "      <td>定期没到期手机能不能转账</td>\n",
       "      <td>定期没到期手机能不能转账</td>\n",
       "      <td>【整存整取已到期转存】到期自动转存后的整存整取，可通过柜台、电话银行、网上银行、手机银行全额...</td>\n",
       "      <td>1</td>\n",
       "    </tr>\n",
       "    <tr>\n",
       "      <th>109</th>\n",
       "      <td>信用卡太多是不是不利于提额</td>\n",
       "      <td></td>\n",
       "      <td>招行信用卡信用固定额度调整，目前可通过三种方式申请：1、您可以在持卡一段时间后，在我行客服热...</td>\n",
       "      <td>1</td>\n",
       "    </tr>\n",
       "  </tbody>\n",
       "</table>\n",
       "</div>"
      ],
      "text/plain": [
       "                        title      question  \\\n",
       "92      天*湖*小*的房子首付多少，能用公积金贷款                 \n",
       "94   30万大额存单利率多少呢，我目前有30多万，想存                 \n",
       "106            43###00日元多少人民币                 \n",
       "108              定期没到期手机能不能转账  定期没到期手机能不能转账   \n",
       "109             信用卡太多是不是不利于提额                 \n",
       "\n",
       "                                                 reply  is_best  \n",
       "92   由于各城市相关政策有所不同，具体您所在当地是否有开展公积金贷款业务，以及相关业务规定，您可以...        1  \n",
       "94                                                            1  \n",
       "106  由于外汇汇率是实时变动的，您可以登录我行主页，点击右侧“实时金融信息”下“外汇实时汇率”查看...        1  \n",
       "108  【整存整取已到期转存】到期自动转存后的整存整取，可通过柜台、电话银行、网上银行、手机银行全额...        1  \n",
       "109  招行信用卡信用固定额度调整，目前可通过三种方式申请：1、您可以在持卡一段时间后，在我行客服热...        1  "
      ]
     },
     "execution_count": 3,
     "metadata": {},
     "output_type": "execute_result"
    }
   ],
   "source": [
    "df.head()"
   ]
  },
  {
   "cell_type": "code",
   "execution_count": 114,
   "metadata": {},
   "outputs": [],
   "source": [
    "stop_words = ''.join(codecs.open('./input/stop_words.txt', encoding='utf-8').readlines()).split('\\n')"
   ]
  },
  {
   "cell_type": "code",
   "execution_count": 6,
   "metadata": {},
   "outputs": [],
   "source": [
    "title = df.title.tolist()"
   ]
  },
  {
   "cell_type": "code",
   "execution_count": 7,
   "metadata": {},
   "outputs": [],
   "source": [
    "title = ','.join(title)"
   ]
  },
  {
   "cell_type": "code",
   "execution_count": 8,
   "metadata": {},
   "outputs": [
    {
     "name": "stderr",
     "output_type": "stream",
     "text": [
      "Building prefix dict from the default dictionary ...\n",
      "Loading model from cache C:\\Users\\Zn\\AppData\\Local\\Temp\\jieba.cache\n",
      "Loading model cost 0.546 seconds.\n",
      "Prefix dict has been built succesfully.\n"
     ]
    }
   ],
   "source": [
    "words = [t for t in jieba.cut(title) if t not in stop_words]"
   ]
  },
  {
   "cell_type": "code",
   "execution_count": 9,
   "metadata": {},
   "outputs": [],
   "source": [
    "word_dict = {}\n",
    "for word in words:\n",
    "    if word not in word_dict:\n",
    "        word_dict[word] = 1\n",
    "    else:\n",
    "        word_dict[word] += 1"
   ]
  },
  {
   "cell_type": "code",
   "execution_count": 15,
   "metadata": {
    "scrolled": true
   },
   "outputs": [],
   "source": [
    "freq_word_df = pd.DataFrame.from_dict(word_dict,orient='index')"
   ]
  },
  {
   "cell_type": "code",
   "execution_count": 18,
   "metadata": {
    "scrolled": true
   },
   "outputs": [],
   "source": [
    "freq_word_df.to_csv('similar_words.csv', index=False)"
   ]
  },
  {
   "cell_type": "code",
   "execution_count": 25,
   "metadata": {},
   "outputs": [],
   "source": [
    "freq_word_df.sort_values(0, inplace=True, ascending=False)"
   ]
  },
  {
   "cell_type": "code",
   "execution_count": 26,
   "metadata": {
    "scrolled": true
   },
   "outputs": [
    {
     "data": {
      "text/html": [
       "<div>\n",
       "<style scoped>\n",
       "    .dataframe tbody tr th:only-of-type {\n",
       "        vertical-align: middle;\n",
       "    }\n",
       "\n",
       "    .dataframe tbody tr th {\n",
       "        vertical-align: top;\n",
       "    }\n",
       "\n",
       "    .dataframe thead th {\n",
       "        text-align: right;\n",
       "    }\n",
       "</style>\n",
       "<table border=\"1\" class=\"dataframe\">\n",
       "  <thead>\n",
       "    <tr style=\"text-align: right;\">\n",
       "      <th></th>\n",
       "      <th>0</th>\n",
       "    </tr>\n",
       "  </thead>\n",
       "  <tbody>\n",
       "    <tr>\n",
       "      <th>信用卡</th>\n",
       "      <td>89497</td>\n",
       "    </tr>\n",
       "    <tr>\n",
       "      <th>贷款</th>\n",
       "      <td>73255</td>\n",
       "    </tr>\n",
       "    <tr>\n",
       "      <th>银行</th>\n",
       "      <td>36116</td>\n",
       "    </tr>\n",
       "    <tr>\n",
       "      <th>银行卡</th>\n",
       "      <td>31037</td>\n",
       "    </tr>\n",
       "    <tr>\n",
       "      <th>招商银行</th>\n",
       "      <td>24827</td>\n",
       "    </tr>\n",
       "    <tr>\n",
       "      <th>钱</th>\n",
       "      <td>23601</td>\n",
       "    </tr>\n",
       "    <tr>\n",
       "      <th>利息</th>\n",
       "      <td>19355</td>\n",
       "    </tr>\n",
       "    <tr>\n",
       "      <th>办</th>\n",
       "      <td>19331</td>\n",
       "    </tr>\n",
       "    <tr>\n",
       "      <th>万</th>\n",
       "      <td>18238</td>\n",
       "    </tr>\n",
       "    <tr>\n",
       "      <th>办理</th>\n",
       "      <td>17652</td>\n",
       "    </tr>\n",
       "    <tr>\n",
       "      <th>申请</th>\n",
       "      <td>17599</td>\n",
       "    </tr>\n",
       "    <tr>\n",
       "      <th>月</th>\n",
       "      <td>17018</td>\n",
       "    </tr>\n",
       "    <tr>\n",
       "      <th>还款</th>\n",
       "      <td>16544</td>\n",
       "    </tr>\n",
       "    <tr>\n",
       "      <th>理财</th>\n",
       "      <td>14661</td>\n",
       "    </tr>\n",
       "    <tr>\n",
       "      <th>年</th>\n",
       "      <td>14578</td>\n",
       "    </tr>\n",
       "    <tr>\n",
       "      <th>想</th>\n",
       "      <td>14514</td>\n",
       "    </tr>\n",
       "    <tr>\n",
       "      <th>人民币</th>\n",
       "      <td>14384</td>\n",
       "    </tr>\n",
       "    <tr>\n",
       "      <th>额度</th>\n",
       "      <td>12976</td>\n",
       "    </tr>\n",
       "    <tr>\n",
       "      <th>身份证</th>\n",
       "      <td>12891</td>\n",
       "    </tr>\n",
       "    <tr>\n",
       "      <th>公积金</th>\n",
       "      <td>12412</td>\n",
       "    </tr>\n",
       "    <tr>\n",
       "      <th>招行</th>\n",
       "      <td>11491</td>\n",
       "    </tr>\n",
       "    <tr>\n",
       "      <th>房贷</th>\n",
       "      <td>9952</td>\n",
       "    </tr>\n",
       "    <tr>\n",
       "      <th>转账</th>\n",
       "      <td>9411</td>\n",
       "    </tr>\n",
       "    <tr>\n",
       "      <th>逾期</th>\n",
       "      <td>9321</td>\n",
       "    </tr>\n",
       "    <tr>\n",
       "      <th>请问</th>\n",
       "      <td>9199</td>\n",
       "    </tr>\n",
       "    <tr>\n",
       "      <th>买房</th>\n",
       "      <td>8849</td>\n",
       "    </tr>\n",
       "    <tr>\n",
       "      <th>卡</th>\n",
       "      <td>8824</td>\n",
       "    </tr>\n",
       "    <tr>\n",
       "      <th>贷</th>\n",
       "      <td>8684</td>\n",
       "    </tr>\n",
       "    <tr>\n",
       "      <th>多久</th>\n",
       "      <td>8618</td>\n",
       "    </tr>\n",
       "    <tr>\n",
       "      <th>抵押</th>\n",
       "      <td>7814</td>\n",
       "    </tr>\n",
       "    <tr>\n",
       "      <th>...</th>\n",
       "      <td>...</td>\n",
       "    </tr>\n",
       "    <tr>\n",
       "      <th>单毕</th>\n",
       "      <td>1</td>\n",
       "    </tr>\n",
       "    <tr>\n",
       "      <th>洗完</th>\n",
       "      <td>1</td>\n",
       "    </tr>\n",
       "    <tr>\n",
       "      <th>申卡者</th>\n",
       "      <td>1</td>\n",
       "    </tr>\n",
       "    <tr>\n",
       "      <th>5912</th>\n",
       "      <td>1</td>\n",
       "    </tr>\n",
       "    <tr>\n",
       "      <th>簇</th>\n",
       "      <td>1</td>\n",
       "    </tr>\n",
       "    <tr>\n",
       "      <th>4.163%</th>\n",
       "      <td>1</td>\n",
       "    </tr>\n",
       "    <tr>\n",
       "      <th>望花</th>\n",
       "      <td>1</td>\n",
       "    </tr>\n",
       "    <tr>\n",
       "      <th>一百万年</th>\n",
       "      <td>1</td>\n",
       "    </tr>\n",
       "    <tr>\n",
       "      <th>少充</th>\n",
       "      <td>1</td>\n",
       "    </tr>\n",
       "    <tr>\n",
       "      <th>离珠</th>\n",
       "      <td>1</td>\n",
       "    </tr>\n",
       "    <tr>\n",
       "      <th>哪一点</th>\n",
       "      <td>1</td>\n",
       "    </tr>\n",
       "    <tr>\n",
       "      <th>5.8725</th>\n",
       "      <td>1</td>\n",
       "    </tr>\n",
       "    <tr>\n",
       "      <th>0.0044</th>\n",
       "      <td>1</td>\n",
       "    </tr>\n",
       "    <tr>\n",
       "      <th>用卡小白</th>\n",
       "      <td>1</td>\n",
       "    </tr>\n",
       "    <tr>\n",
       "      <th>伍仟会</th>\n",
       "      <td>1</td>\n",
       "    </tr>\n",
       "    <tr>\n",
       "      <th>appl</th>\n",
       "      <td>1</td>\n",
       "    </tr>\n",
       "    <tr>\n",
       "      <th>斯取</th>\n",
       "      <td>1</td>\n",
       "    </tr>\n",
       "    <tr>\n",
       "      <th>存月供</th>\n",
       "      <td>1</td>\n",
       "    </tr>\n",
       "    <tr>\n",
       "      <th>苍溪</th>\n",
       "      <td>1</td>\n",
       "    </tr>\n",
       "    <tr>\n",
       "      <th>38w20</th>\n",
       "      <td>1</td>\n",
       "    </tr>\n",
       "    <tr>\n",
       "      <th>卡能成</th>\n",
       "      <td>1</td>\n",
       "    </tr>\n",
       "    <tr>\n",
       "      <th>支路</th>\n",
       "      <td>1</td>\n",
       "    </tr>\n",
       "    <tr>\n",
       "      <th>1031</th>\n",
       "      <td>1</td>\n",
       "    </tr>\n",
       "    <tr>\n",
       "      <th>特想</th>\n",
       "      <td>1</td>\n",
       "    </tr>\n",
       "    <tr>\n",
       "      <th>肯利后</th>\n",
       "      <td>1</td>\n",
       "    </tr>\n",
       "    <tr>\n",
       "      <th>苟</th>\n",
       "      <td>1</td>\n",
       "    </tr>\n",
       "    <tr>\n",
       "      <th>笔录</th>\n",
       "      <td>1</td>\n",
       "    </tr>\n",
       "    <tr>\n",
       "      <th>87.9</th>\n",
       "      <td>1</td>\n",
       "    </tr>\n",
       "    <tr>\n",
       "      <th>车架</th>\n",
       "      <td>1</td>\n",
       "    </tr>\n",
       "    <tr>\n",
       "      <th>高龄</th>\n",
       "      <td>1</td>\n",
       "    </tr>\n",
       "  </tbody>\n",
       "</table>\n",
       "<p>49076 rows × 1 columns</p>\n",
       "</div>"
      ],
      "text/plain": [
       "            0\n",
       "信用卡     89497\n",
       "贷款      73255\n",
       "银行      36116\n",
       "银行卡     31037\n",
       "招商银行    24827\n",
       "钱       23601\n",
       "利息      19355\n",
       "办       19331\n",
       "万       18238\n",
       "办理      17652\n",
       "申请      17599\n",
       "月       17018\n",
       "还款      16544\n",
       "理财      14661\n",
       "年       14578\n",
       "想       14514\n",
       "人民币     14384\n",
       "额度      12976\n",
       "身份证     12891\n",
       "公积金     12412\n",
       "招行      11491\n",
       "房贷       9952\n",
       "转账       9411\n",
       "逾期       9321\n",
       "请问       9199\n",
       "买房       8849\n",
       "卡        8824\n",
       "贷        8684\n",
       "多久       8618\n",
       "抵押       7814\n",
       "...       ...\n",
       "单毕          1\n",
       "洗完          1\n",
       "申卡者         1\n",
       "5912        1\n",
       "簇           1\n",
       "4.163%      1\n",
       "望花          1\n",
       "一百万年        1\n",
       "少充          1\n",
       "离珠          1\n",
       "哪一点         1\n",
       "5.8725      1\n",
       "0.0044      1\n",
       "用卡小白        1\n",
       "伍仟会         1\n",
       "appl        1\n",
       "斯取          1\n",
       "存月供         1\n",
       "苍溪          1\n",
       "38w20       1\n",
       "卡能成         1\n",
       "支路          1\n",
       "1031        1\n",
       "特想          1\n",
       "肯利后         1\n",
       "苟           1\n",
       "笔录          1\n",
       "87.9        1\n",
       "车架          1\n",
       "高龄          1\n",
       "\n",
       "[49076 rows x 1 columns]"
      ]
     },
     "execution_count": 26,
     "metadata": {},
     "output_type": "execute_result"
    }
   ],
   "source": [
    "freq_word_df"
   ]
  },
  {
   "cell_type": "code",
   "execution_count": 3,
   "metadata": {},
   "outputs": [],
   "source": [
    "def cluster_agt(sentence, model, n_clusters):\n",
    "#     sentence = [s for s in sentence if is_q(s, rule_())]  \n",
    "    vecs = np.array([get_vec(s, model) for s in sentence])\n",
    "    clustering = AgglomerativeClustering(n_clusters=n_clusters, linkage='ward').fit(vecs)\n",
    "    cluster_result = pd.DataFrame({'sentence': pd.Series(sentence), 'cluster_labels': pd.Series(clustering.labels_)})\n",
    "    cluster_result = cluster_result.fillna('999')\n",
    "    cluster_result['cluster_labels'] = cluster_result['cluster_labels'].astype('int32')\n",
    "    return cluster_result"
   ]
  },
  {
   "cell_type": "code",
   "execution_count": 4,
   "metadata": {},
   "outputs": [],
   "source": [
    "def get_vec(sentence, model):\n",
    "    vec = np.zeros(model.vector_size)\n",
    "    n = 0\n",
    "    for word in jieba.cut(sentence):\n",
    "        try:\n",
    "            vec += model.wv[word]\n",
    "            n += 1\n",
    "        except KeyError:\n",
    "            pass\n",
    "    return vec if n==0 else vec/n "
   ]
  },
  {
   "cell_type": "code",
   "execution_count": 7,
   "metadata": {
    "scrolled": true
   },
   "outputs": [],
   "source": [
    "q = df[df['title'].str.contains('信用卡')].title.tolist()"
   ]
  },
  {
   "cell_type": "code",
   "execution_count": 7,
   "metadata": {},
   "outputs": [
    {
     "name": "stderr",
     "output_type": "stream",
     "text": [
      "Building prefix dict from the default dictionary ...\n",
      "Loading model from cache C:\\Users\\Zn\\AppData\\Local\\Temp\\jieba.cache\n",
      "Loading model cost 0.526 seconds.\n",
      "Prefix dict has been built succesfully.\n"
     ]
    }
   ],
   "source": [
    "result = cluster_agt(q, model, 40)"
   ]
  },
  {
   "cell_type": "code",
   "execution_count": 8,
   "metadata": {},
   "outputs": [],
   "source": [
    "result = result[['sentence', 'cluster_labels']]"
   ]
  },
  {
   "cell_type": "code",
   "execution_count": 9,
   "metadata": {
    "scrolled": true
   },
   "outputs": [
    {
     "data": {
      "text/plain": [
       "0     1874\n",
       "10    1425\n",
       "21    1370\n",
       "17    1308\n",
       "1     1234\n",
       "12     902\n",
       "7      894\n",
       "13     888\n",
       "20     832\n",
       "18     776\n",
       "2      761\n",
       "11     746\n",
       "14     677\n",
       "22     653\n",
       "25     636\n",
       "30     624\n",
       "36     570\n",
       "15     567\n",
       "3      522\n",
       "19     465\n",
       "4      419\n",
       "27     409\n",
       "9      390\n",
       "23     371\n",
       "5      355\n",
       "32     350\n",
       "37     344\n",
       "34     333\n",
       "16     307\n",
       "38     276\n",
       "28     276\n",
       "6      272\n",
       "35     203\n",
       "29     200\n",
       "8      137\n",
       "31     134\n",
       "33      90\n",
       "24      69\n",
       "39      51\n",
       "26      39\n",
       "Name: cluster_labels, dtype: int64"
      ]
     },
     "execution_count": 9,
     "metadata": {},
     "output_type": "execute_result"
    }
   ],
   "source": [
    "result.cluster_labels.value_counts()"
   ]
  },
  {
   "cell_type": "code",
   "execution_count": 8,
   "metadata": {
    "scrolled": true
   },
   "outputs": [
    {
     "ename": "NameError",
     "evalue": "name 'result' is not defined",
     "output_type": "error",
     "traceback": [
      "\u001b[1;31m---------------------------------------------------------------------------\u001b[0m",
      "\u001b[1;31mNameError\u001b[0m                                 Traceback (most recent call last)",
      "\u001b[1;32m<ipython-input-8-d5f2d45a348e>\u001b[0m in \u001b[0;36m<module>\u001b[1;34m()\u001b[0m\n\u001b[0;32m     23\u001b[0m \u001b[1;31m# 23,39 信用卡好处\u001b[0m\u001b[1;33m\u001b[0m\u001b[1;33m\u001b[0m\u001b[0m\n\u001b[0;32m     24\u001b[0m \u001b[1;31m# 4  信用卡等级咨询\u001b[0m\u001b[1;33m\u001b[0m\u001b[1;33m\u001b[0m\u001b[0m\n\u001b[1;32m---> 25\u001b[1;33m \u001b[0mresult\u001b[0m\u001b[1;33m[\u001b[0m\u001b[0mresult\u001b[0m\u001b[1;33m[\u001b[0m\u001b[1;34m'cluster_labels'\u001b[0m\u001b[1;33m]\u001b[0m \u001b[1;33m==\u001b[0m \u001b[1;36m1\u001b[0m\u001b[1;33m]\u001b[0m\u001b[1;33m.\u001b[0m\u001b[0msample\u001b[0m\u001b[1;33m(\u001b[0m\u001b[1;36m15\u001b[0m\u001b[1;33m)\u001b[0m\u001b[1;33m\u001b[0m\u001b[0m\n\u001b[0m",
      "\u001b[1;31mNameError\u001b[0m: name 'result' is not defined"
     ]
    }
   ],
   "source": [
    "# 26,22,2,12,17 删除\n",
    "# 24 免息\n",
    "# 31,6,14,1,21,33 申请、办理\n",
    "# 8 挂失、补卡\n",
    "# 29 出境\n",
    "# 18 注销\n",
    "# 20 推荐\n",
    "# 35,27,22 提额、额度\n",
    "# 28 被封\n",
    "# 14 没通过\n",
    "# 38 转账\n",
    "# 0  还款\n",
    "# 16 无工作怎么办理\n",
    "# 30,10 逾期\n",
    "# 34 取出来\n",
    "# 25,36 多张信用卡\n",
    "# 37,11 贷款\n",
    "# 18 年费\n",
    "# 32,9,3 其他\n",
    "# 19,15,19,2,13,7,1 杂\n",
    "# 11 贷款渠道\n",
    "# 5  退款\n",
    "# 23,39 信用卡好处\n",
    "# 4  信用卡等级咨询\n",
    "result[result['cluster_labels'] == 1].sample(15)"
   ]
  },
  {
   "cell_type": "code",
   "execution_count": 26,
   "metadata": {
    "scrolled": true
   },
   "outputs": [
    {
     "name": "stderr",
     "output_type": "stream",
     "text": [
      "D:\\Tools\\Anaconda\\lib\\site-packages\\pandas\\core\\generic.py:4619: SettingWithCopyWarning: \n",
      "A value is trying to be set on a copy of a slice from a DataFrame\n",
      "\n",
      "See the caveats in the documentation: http://pandas.pydata.org/pandas-docs/stable/indexing.html#indexing-view-versus-copy\n",
      "  self._update_inplace(new_data)\n"
     ]
    }
   ],
   "source": [
    "# df1.cluster_labels.replace([19,15,19,2,13,7,1], '杂', inplace=True)\n",
    "# df1.cluster_labels.replace([23,39], '好处', inplace=True)\n",
    "# df1.cluster_labels.replace([5], '退款', inplace=True)\n",
    "# df1.cluster_labels.replace([4], '等级', inplace=True)\n",
    "# df1.cluster_labels.replace([11,37], '贷款渠道', inplace=True)\n",
    "# df1.cluster_labels.replace('多张卡', '其他', inplace=True)\n",
    "# df1.cluster_labels.replace([34], '套现', inplace=True)\n",
    "# df1.cluster_labels.replace([14], '没通过', inplace=True)\n",
    "# df1.cluster_labels.replace([0], '还款', inplace=True)\n",
    "# df1.cluster_labels.replace([16], '无工作', inplace=True)\n",
    "# df1.cluster_labels.replace('没通过', '无工作', inplace=True)\n",
    "# df1.cluster_labels.replace([38], '转账', inplace=True)\n",
    "# df1.cluster_labels.replace([28], '被封', inplace=True)\n",
    "# df1.cluster_labels.replace([20], '推荐', inplace=True)\n",
    "# df1.cluster_labels.replace([18], '注销', inplace=True)\n",
    "# df1.cluster_labels.replace([29], '出境', inplace=True)\n",
    "# df1.cluster_labels.replace([30,10], '逾期', inplace=True)\n",
    "# df1.cluster_labels.replace([8], '挂失', inplace=True)\n",
    "# df1.cluster_labels.replace([31,6,14,1,21,33], '申请', inplace=True)\n",
    "# df1.cluster_labels.replace([24], '免息', inplace=True)\n",
    "# df1.cluster_labels.replace([35,27,22], '额度', inplace=True)\n",
    "df1.cluster_labels.replace([25, 36], '多张卡', inplace=True)"
   ]
  },
  {
   "cell_type": "code",
   "execution_count": 23,
   "metadata": {},
   "outputs": [],
   "source": [
    "df1 = df1[-df1['cluster_labels'].isin([26,22,2,12,17])]"
   ]
  },
  {
   "cell_type": "code",
   "execution_count": 5,
   "metadata": {},
   "outputs": [],
   "source": [
    "df1 = pd.read_csv('credit_card_small_version.csv')"
   ]
  },
  {
   "cell_type": "code",
   "execution_count": 39,
   "metadata": {},
   "outputs": [],
   "source": [
    "df1.to_csv('credit_card_small_version.csv', index=False)"
   ]
  },
  {
   "cell_type": "code",
   "execution_count": 6,
   "metadata": {},
   "outputs": [],
   "source": [
    "df0 = pd.read_csv('credit_card.csv')"
   ]
  },
  {
   "cell_type": "code",
   "execution_count": 40,
   "metadata": {},
   "outputs": [
    {
     "data": {
      "text/plain": [
       "杂       4809\n",
       "逾期      2049\n",
       "还款      1874\n",
       "申请      1866\n",
       "额度      1265\n",
       "其他      1262\n",
       "多张卡     1206\n",
       "贷款渠道    1090\n",
       "无工作      984\n",
       "推荐       832\n",
       "注销       776\n",
       "好处       422\n",
       "等级       419\n",
       "退款       355\n",
       "套现       333\n",
       "被封       276\n",
       "转账       276\n",
       "出境       200\n",
       "挂失       137\n",
       "免息        69\n",
       "Name: cluster_labels, dtype: int64"
      ]
     },
     "execution_count": 40,
     "metadata": {},
     "output_type": "execute_result"
    }
   ],
   "source": [
    "df1.cluster_labels.value_counts()"
   ]
  },
  {
   "cell_type": "code",
   "execution_count": 45,
   "metadata": {},
   "outputs": [],
   "source": [
    "# q = df[df['cluster_labels'].isin([3,28,21,9,38,14,5,8,19,18,24,2,38,1,13,35])].sentence.tolist()\n",
    "df0.cluster_labels.replace([3,28,21,9,38], '申请', inplace=True)\n",
    "df0.cluster_labels.replace([13], '额度', inplace=True)\n",
    "df0.cluster_labels.replace([4,11], '逾期', inplace=True)\n",
    "df0.cluster_labels.replace([34], '注销', inplace=True)\n",
    "df0.cluster_labels.replace([22], '申请', inplace=True)\n",
    "df0.cluster_labels.replace([30], '推荐', inplace=True)\n",
    "df0.cluster_labels.replace([5,10], '申请', inplace=True)\n",
    "df0.cluster_labels.replace([36], '年龄', inplace=True)\n",
    "df0.cluster_labels.replace([25], '条件', inplace=True)\n",
    "df0.cluster_labels.replace([32,14], '逾期', inplace=True)\n",
    "df0.cluster_labels.replace([15,16], '进度', inplace=True)\n",
    "df0.cluster_labels.replace([31], '分期', inplace=True)\n",
    "df0.cluster_labels.replace([33], '利息', inplace=True)\n",
    "df0.cluster_labels.replace([37,34], '额度', inplace=True)\n",
    "df0.cluster_labels.replace([29,20], '最低还款', inplace=True)\n",
    "df0.cluster_labels.replace([17], '积分', inplace=True)\n",
    "df0.cluster_labels.replace([0], '手续费', inplace=True)\n",
    "df0.cluster_labels.replace([12], '账单日', inplace=True)\n",
    "df0.cluster_labels.replace([7], '邮箱密码', inplace=True)\n",
    "df0.cluster_labels.replace([27,1], '转账', inplace=True)"
   ]
  },
  {
   "cell_type": "code",
   "execution_count": 47,
   "metadata": {},
   "outputs": [],
   "source": [
    "df = pd.concat([df0, df1])"
   ]
  },
  {
   "cell_type": "code",
   "execution_count": 88,
   "metadata": {},
   "outputs": [
    {
     "data": {
      "text/plain": [
       "杂       11946\n",
       "申请      11623\n",
       "逾期       7666\n",
       "转账       3530\n",
       "额度       2998\n",
       "无工作      2547\n",
       "还款       1874\n",
       "推荐       1806\n",
       "注销       1419\n",
       "挂失       1326\n",
       "最低还款     1292\n",
       "其他       1262\n",
       "多张卡      1206\n",
       "贷款渠道     1090\n",
       "进度       1031\n",
       "邮箱密码      782\n",
       "账单日       698\n",
       "手续费       680\n",
       "积分        483\n",
       "利息        451\n",
       "好处        422\n",
       "等级        419\n",
       "分期        414\n",
       "退款        355\n",
       "条件        336\n",
       "套现        333\n",
       "年龄        322\n",
       "被封        276\n",
       "23        212\n",
       "出境        200\n",
       "免息         69\n",
       "Name: cluster_labels, dtype: int64"
      ]
     },
     "execution_count": 88,
     "metadata": {},
     "output_type": "execute_result"
    }
   ],
   "source": [
    "df.cluster_labels.value_counts()"
   ]
  },
  {
   "cell_type": "code",
   "execution_count": 52,
   "metadata": {},
   "outputs": [
    {
     "data": {
      "text/html": [
       "<div>\n",
       "<style scoped>\n",
       "    .dataframe tbody tr th:only-of-type {\n",
       "        vertical-align: middle;\n",
       "    }\n",
       "\n",
       "    .dataframe tbody tr th {\n",
       "        vertical-align: top;\n",
       "    }\n",
       "\n",
       "    .dataframe thead th {\n",
       "        text-align: right;\n",
       "    }\n",
       "</style>\n",
       "<table border=\"1\" class=\"dataframe\">\n",
       "  <thead>\n",
       "    <tr style=\"text-align: right;\">\n",
       "      <th></th>\n",
       "      <th>sentence</th>\n",
       "      <th>cluster_labels</th>\n",
       "    </tr>\n",
       "  </thead>\n",
       "  <tbody>\n",
       "    <tr>\n",
       "      <th>28748</th>\n",
       "      <td>信用卡刷卡免年费有金额限制吗？</td>\n",
       "      <td>转账</td>\n",
       "    </tr>\n",
       "    <tr>\n",
       "      <th>22259</th>\n",
       "      <td>招行信用卡网上支付算是刷卡消费吗</td>\n",
       "      <td>转账</td>\n",
       "    </tr>\n",
       "    <tr>\n",
       "      <th>12659</th>\n",
       "      <td>信用卡可以转账用么？</td>\n",
       "      <td>转账</td>\n",
       "    </tr>\n",
       "    <tr>\n",
       "      <th>22455</th>\n",
       "      <td>我没有添加信用卡怎么礼品卡购买成功了</td>\n",
       "      <td>转账</td>\n",
       "    </tr>\n",
       "    <tr>\n",
       "      <th>26763</th>\n",
       "      <td>上个月20号刷信用卡失败显示已冲正需要多久退回啊</td>\n",
       "      <td>转账</td>\n",
       "    </tr>\n",
       "    <tr>\n",
       "      <th>8508</th>\n",
       "      <td>信用卡能转账到储蓄卡吗–手机爱问</td>\n",
       "      <td>转账</td>\n",
       "    </tr>\n",
       "    <tr>\n",
       "      <th>591</th>\n",
       "      <td>招商银行信用卡能查出转账到账信息吗</td>\n",
       "      <td>转账</td>\n",
       "    </tr>\n",
       "    <tr>\n",
       "      <th>33557</th>\n",
       "      <td>招商银行信用卡刷境外机要收手续费吗</td>\n",
       "      <td>转账</td>\n",
       "    </tr>\n",
       "    <tr>\n",
       "      <th>27016</th>\n",
       "      <td>你好请问一下手机分期付款没有还能不能办信用卡</td>\n",
       "      <td>转账</td>\n",
       "    </tr>\n",
       "    <tr>\n",
       "      <th>8607</th>\n",
       "      <td>哪些支付或者理财平台支持信用卡？</td>\n",
       "      <td>转账</td>\n",
       "    </tr>\n",
       "  </tbody>\n",
       "</table>\n",
       "</div>"
      ],
      "text/plain": [
       "                       sentence cluster_labels\n",
       "28748           信用卡刷卡免年费有金额限制吗？             转账\n",
       "22259          招行信用卡网上支付算是刷卡消费吗             转账\n",
       "12659                信用卡可以转账用么？             转账\n",
       "22455        我没有添加信用卡怎么礼品卡购买成功了             转账\n",
       "26763  上个月20号刷信用卡失败显示已冲正需要多久退回啊             转账\n",
       "8508           信用卡能转账到储蓄卡吗–手机爱问             转账\n",
       "591           招商银行信用卡能查出转账到账信息吗             转账\n",
       "33557         招商银行信用卡刷境外机要收手续费吗             转账\n",
       "27016    你好请问一下手机分期付款没有还能不能办信用卡             转账\n",
       "8607           哪些支付或者理财平台支持信用卡？             转账"
      ]
     },
     "execution_count": 52,
     "metadata": {},
     "output_type": "execute_result"
    }
   ],
   "source": [
    "df[df['cluster_labels'] == '转账'].sample(10)"
   ]
  },
  {
   "cell_type": "code",
   "execution_count": null,
   "metadata": {},
   "outputs": [],
   "source": [
    "## 3、28、21、9、38    如何办理+货\n",
    "## 13  额度相关\n",
    "## 4、11    逾期\n",
    "## 34  挂失、注销、解封\n",
    "## 22  身份证办理\n",
    "## 30  哪个信用卡好\n",
    "## 5、10    如何办理\n",
    "## 14  欠、逾期\n",
    "## 36  年龄\n",
    "## 25  办理信用卡的条件和材料\n",
    "## 32  逾期、不良\n",
    "## 16、15  进度、审核\n",
    "## 31  手续费、分期\n",
    "## 33  利息、借多少钱\n",
    "## 37  提升额度\n",
    "## 29、20  最低还款+杂\n",
    "## 17  积分、年费\n",
    "## 39、26  哪里可以办理（删除）\n",
    "## 34  有多少额度\n",
    "## 0    手续费、取现金\n",
    "## 12  账单日\n",
    "##  7   邮箱+密码相关\n",
    "##  27、1 信用卡消费、充值、转账"
   ]
  },
  {
   "cell_type": "code",
   "execution_count": 94,
   "metadata": {},
   "outputs": [],
   "source": [
    "df.to_csv('clusted.csv', index=False)"
   ]
  },
  {
   "cell_type": "code",
   "execution_count": 12,
   "metadata": {},
   "outputs": [],
   "source": [
    "df = pd.read_csv('drop_finance.csv')"
   ]
  },
  {
   "cell_type": "code",
   "execution_count": 13,
   "metadata": {},
   "outputs": [
    {
     "data": {
      "text/plain": [
       "(36852, 2)"
      ]
     },
     "execution_count": 13,
     "metadata": {},
     "output_type": "execute_result"
    }
   ],
   "source": [
    "df.shape"
   ]
  },
  {
   "cell_type": "code",
   "execution_count": 5,
   "metadata": {},
   "outputs": [],
   "source": [
    "similar_json = json.load(codecs.open('./model/finance.json', 'r', encoding='UTF-8'))"
   ]
  },
  {
   "cell_type": "code",
   "execution_count": 20,
   "metadata": {},
   "outputs": [
    {
     "name": "stderr",
     "output_type": "stream",
     "text": [
      "Building prefix dict from the default dictionary ...\n",
      "Loading model from cache C:\\Users\\Zn\\AppData\\Local\\Temp\\jieba.cache\n",
      "Loading model cost 0.529 seconds.\n",
      "Prefix dict has been built succesfully.\n"
     ]
    },
    {
     "data": {
      "text/plain": [
       "['银联', '要', '信用卡', '吗']"
      ]
     },
     "execution_count": 20,
     "metadata": {},
     "output_type": "execute_result"
    }
   ],
   "source": [
    "jieba.lcut('银联要信用卡吗')"
   ]
  },
  {
   "cell_type": "code",
   "execution_count": 28,
   "metadata": {},
   "outputs": [
    {
     "data": {
      "text/plain": [
       "['通付', '可以', '刷', '自己', '的', '信用卡', '吗']"
      ]
     },
     "execution_count": 28,
     "metadata": {},
     "output_type": "execute_result"
    }
   ],
   "source": [
    "jieba.lcut('通付可以刷自己的信用卡吗')"
   ]
  },
  {
   "cell_type": "code",
   "execution_count": 8,
   "metadata": {},
   "outputs": [
    {
     "data": {
      "text/plain": [
       "{'lqzn': 0.4851926267147064,\n",
       " '不提': 0.4871380031108856,\n",
       " '你好': 0.4961557984352112,\n",
       " '储蓄卡': 0.5094289779663086,\n",
       " '即取': 0.5097764730453491,\n",
       " '即可': 0.4847288727760315,\n",
       " '第一次': 0.5016353130340576,\n",
       " '银行': 0.4976101815700531}"
      ]
     },
     "execution_count": 8,
     "metadata": {},
     "output_type": "execute_result"
    }
   ],
   "source": [
    "similar_json['信用卡']"
   ]
  },
  {
   "cell_type": "code",
   "execution_count": 26,
   "metadata": {
    "scrolled": true
   },
   "outputs": [
    {
     "name": "stderr",
     "output_type": "stream",
     "text": [
      "D:\\Tools\\Anaconda\\lib\\site-packages\\numpy\\core\\fromnumeric.py:2920: RuntimeWarning: Mean of empty slice.\n",
      "  out=out, **kwargs)\n",
      "D:\\Tools\\Anaconda\\lib\\site-packages\\numpy\\core\\_methods.py:85: RuntimeWarning: invalid value encountered in double_scalars\n",
      "  ret = ret.dtype.type(ret / rcount)\n"
     ]
    },
    {
     "name": "stdout",
     "output_type": "stream",
     "text": [
      "怎么办理信用卡 1.0\n",
      "信用卡怎么申请办理 0.887159988284111\n",
      "信用卡办理 1.0\n",
      "办理信用卡 1.0\n",
      "信用卡怎么申请 0.8495466510454813\n",
      "申请办理信用卡 0.8495466510454813\n",
      "信用卡信用卡 1.0\n",
      "信用卡怎么办理 1.0\n",
      "怎么申请办理信用卡 0.887159988284111\n",
      "怎么申请信用卡 0.8495466510454813\n",
      "第一次办理信用卡 0.8338784376780192\n",
      "信用卡申请怎么申请 0.8495466510454813\n",
      "信用卡怎么办理信用卡 1.0\n"
     ]
    }
   ],
   "source": [
    "for sentence in df.sentence.tolist():\n",
    "    score = simq('信用卡怎么办理', sentence)\n",
    "    if score > 0.8:\n",
    "        print(sentence, score)"
   ]
  },
  {
   "cell_type": "code",
   "execution_count": 31,
   "metadata": {},
   "outputs": [
    {
     "data": {
      "text/html": [
       "<div>\n",
       "<style scoped>\n",
       "    .dataframe tbody tr th:only-of-type {\n",
       "        vertical-align: middle;\n",
       "    }\n",
       "\n",
       "    .dataframe tbody tr th {\n",
       "        vertical-align: top;\n",
       "    }\n",
       "\n",
       "    .dataframe thead th {\n",
       "        text-align: right;\n",
       "    }\n",
       "</style>\n",
       "<table border=\"1\" class=\"dataframe\">\n",
       "  <thead>\n",
       "    <tr style=\"text-align: right;\">\n",
       "      <th></th>\n",
       "      <th>sentence</th>\n",
       "      <th>cluster_labels</th>\n",
       "    </tr>\n",
       "  </thead>\n",
       "  <tbody>\n",
       "    <tr>\n",
       "      <th>1803</th>\n",
       "      <td>怎么办理信用卡</td>\n",
       "      <td>申请</td>\n",
       "    </tr>\n",
       "  </tbody>\n",
       "</table>\n",
       "</div>"
      ],
      "text/plain": [
       "     sentence cluster_labels\n",
       "1803  怎么办理信用卡             申请"
      ]
     },
     "execution_count": 31,
     "metadata": {},
     "output_type": "execute_result"
    }
   ],
   "source": [
    "df[df['sentence'] == '怎么办理信用卡']"
   ]
  },
  {
   "cell_type": "code",
   "execution_count": null,
   "metadata": {},
   "outputs": [],
   "source": []
  }
 ],
 "metadata": {
  "kernelspec": {
   "display_name": "Python 3",
   "language": "python",
   "name": "python3"
  },
  "language_info": {
   "codemirror_mode": {
    "name": "ipython",
    "version": 3
   },
   "file_extension": ".py",
   "mimetype": "text/x-python",
   "name": "python",
   "nbconvert_exporter": "python",
   "pygments_lexer": "ipython3",
   "version": "3.6.4"
  }
 },
 "nbformat": 4,
 "nbformat_minor": 2
}
